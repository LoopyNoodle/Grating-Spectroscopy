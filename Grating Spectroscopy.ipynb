{
 "cells": [
  {
   "cell_type": "code",
   "execution_count": 1,
   "metadata": {},
   "outputs": [],
   "source": [
    "# Importing all relevant packages\n",
    "import numpy as np\n",
    "from decimal import Decimal"
   ]
  },
  {
   "cell_type": "code",
   "execution_count": 2,
   "metadata": {},
   "outputs": [
    {
     "name": "stdout",
     "output_type": "stream",
     "text": [
      "The temperature of the Betelgeuse is: 3203.726 K\n"
     ]
    }
   ],
   "source": [
    "# Betelgeuse\n",
    "maxwav = 9045e-10 # m\n",
    "\n",
    "# Calculating the effective temperature of the sun using Wien's displacement law\n",
    "b = 2.89777e-3 # Wien's constant\n",
    "T = b/(maxwav) # Converting to metres\n",
    "print('The temperature of the Betelgeuse is:', round(T, 3), 'K')"
   ]
  },
  {
   "cell_type": "code",
   "execution_count": 3,
   "metadata": {},
   "outputs": [
    {
     "name": "stdout",
     "output_type": "stream",
     "text": [
      "The temperature of the Betelgeuse is: 4751.144 K\n"
     ]
    }
   ],
   "source": [
    "maxwav1 = 6099.1e-10 # m\n",
    "\n",
    "# Calculating the colour temperature of the sun using Wien's displacement law\n",
    "b = 2.89777e-3 # Wien's constant\n",
    "T1 = b/(maxwav1) # Converting to metres\n",
    "print('The temperature of the Betelgeuse is:', round(T1, 3), 'K')"
   ]
  },
  {
   "cell_type": "code",
   "execution_count": 4,
   "metadata": {},
   "outputs": [
    {
     "name": "stdout",
     "output_type": "stream",
     "text": [
      "Radius of Betelgeuse: 8.02E+11 m\n",
      "which is equal to 5.358 AU\n"
     ]
    }
   ],
   "source": [
    "# Calculating the Radius of Betelgeuse\n",
    "L = 126000 * 3.828e+26 # W\n",
    "sig = 5.67e-8 # W/m^2 K\n",
    "Area = L/(sig*(T**4))\n",
    "radius = np.sqrt(Area/(4*np.pi))\n",
    "print('Radius of Betelgeuse:', '%.2E' % Decimal(str(radius)), 'm')\n",
    "print('which is equal to', round(6.6846E-12*radius, 3), 'AU') # Converting to AU"
   ]
  }
 ],
 "metadata": {
  "kernelspec": {
   "display_name": "Python 3",
   "language": "python",
   "name": "python3"
  },
  "language_info": {
   "codemirror_mode": {
    "name": "ipython",
    "version": 3
   },
   "file_extension": ".py",
   "mimetype": "text/x-python",
   "name": "python",
   "nbconvert_exporter": "python",
   "pygments_lexer": "ipython3",
   "version": "3.7.10"
  }
 },
 "nbformat": 4,
 "nbformat_minor": 4
}
